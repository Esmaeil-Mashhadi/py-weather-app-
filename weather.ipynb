{
 "cells": [
  {
   "cell_type": "markdown",
   "metadata": {},
   "source": [
    "### Providing necessary packages, URLs, and keys.\n",
    "### Point to note: I haven't saved the API key to an environment file for temporary access and testing purposes.\n"
   ]
  },
  {
   "cell_type": "code",
   "execution_count": 53,
   "metadata": {},
   "outputs": [],
   "source": [
    "import requests\n",
    "import pandas as pd \n",
    "import datetime\n",
    "seaching_city=''\n",
    "base_url = 'https://api.openweathermap.org/data/2.5/weather'\n",
    "forcast_url ='https://api.openweathermap.org/data/2.5/forecast'\n",
    "api_key =\"fa92cc369f0e56f67f813a44ede497cb\" "
   ]
  },
  {
   "cell_type": "markdown",
   "metadata": {},
   "source": [
    "### We prompt the user to input their desired city. Using geocoding in conjunction with OpenWeatherMap, we retrieve the corresponding coordinates"
   ]
  },
  {
   "cell_type": "code",
   "execution_count": 54,
   "metadata": {},
   "outputs": [],
   "source": [
    "def get_coordinate(city_name, api_key):\n",
    "    \"\"\"\n",
    "    Getting latitude and longitude of a given city with openweather geocode api \n",
    "    \"\"\"\n",
    "    search_url = f\"http://api.openweathermap.org/geo/1.0/direct?q={city_name}&appid={api_key}\"\n",
    "    coordinate_response = requests.get(search_url)\n",
    "    [result] =coordinate_response.json()\n",
    "    return {'lat' : result['lat']  , 'lon':result['lon']}"
   ]
  },
  {
   "cell_type": "markdown",
   "metadata": {},
   "source": [
    "### i fetched weather data and forecast data using their respective URLs and parameters, processing them before returning the results."
   ]
  },
  {
   "cell_type": "code",
   "execution_count": 55,
   "metadata": {},
   "outputs": [],
   "source": [
    "def get_weather_data(lat , lon, api_key):\n",
    "    \"\"\" \n",
    "      Getting weather data base on provided lattiude and longitude \n",
    "    \"\"\"\n",
    "    parameters ={\n",
    "        \"lat\":lat,\n",
    "        'lon':lon,\n",
    "        'appid':api_key\n",
    "    }\n",
    "    weather_data_response = requests.get(base_url , params=parameters)\n",
    "    weather_forcast_response = requests.get(forcast_url , params=parameters)\n",
    "    weather_data = weather_data_response.json()\n",
    "    forcast_data = weather_forcast_response.json()\n",
    "\n",
    "    return {\"weather_data\":weather_data ,\"forcast_data\": forcast_data}\n"
   ]
  },
  {
   "cell_type": "markdown",
   "metadata": {},
   "source": [
    "### Using the weather API, we have the option to retrieve current weather data or forecast data, providing a list of 3-hour forecasts for the next 5 days.\n",
    "### Within the 'clean_data' function, we have implemented an 'extract_value' method to effectively handle dictionaries and lists, extracting and cleaning their values."
   ]
  },
  {
   "cell_type": "code",
   "execution_count": 56,
   "metadata": {},
   "outputs": [],
   "source": [
    "def clean_data(weather_data, forcast_data):\n",
    "    \"\"\"\n",
    "    retreiving what we want from result \n",
    "    \"\"\"\n",
    "    forcast_list =[]\n",
    "\n",
    "    def extract_values(weather_dic): \n",
    "        temp_celsius = round(weather_dic['main']['temp'] - 273.15)\n",
    "        weather_condition=weather_dic['weather'][0]['main']\n",
    "        result ={\n",
    "            'name': weather_dic.get('name' , forcast_data['city']['name']), # we ignored name for now \n",
    "            'condition':weather_condition, \n",
    "            'wind':weather_dic['wind']['speed'], \n",
    "            'temperature':temp_celsius ,\n",
    "            'humidity':weather_dic['main']['humidity']\n",
    "            }\n",
    "        return result \n",
    "    # we got one object for weather and list of objects in forcast , so we extract it one by one and appended it in forcast_list\n",
    "    for  weather_dic in forcast_data['list'] : \n",
    "        forcast_list.append(extract_values(weather_dic))\n",
    "    \n",
    "    weather_result = extract_values(weather_data)\n",
    "\n",
    "    return {'weather_result':weather_result , 'forcast_list':forcast_list}\n"
   ]
  },
  {
   "cell_type": "code",
   "execution_count": 57,
   "metadata": {},
   "outputs": [],
   "source": [
    "def main():\n",
    "    \"\"\" \n",
    "    getting final data in json format\n",
    "    \"\"\"\n",
    "    city_name = input('Enter city name: ').strip()\n",
    "    coordinates = get_coordinate(city_name, api_key)\n",
    "    data =get_weather_data(coordinates['lat'] , coordinates['lon'], api_key)\n",
    "    final_data = clean_data(data['weather_data'] ,data['forcast_data'])\n",
    "    return final_data , city_name\n"
   ]
  },
  {
   "cell_type": "markdown",
   "metadata": {},
   "source": [
    "### After retrieving data in the main function, i structured two data frames one for today's weather and another for the forecast. \n",
    "### Key considerations: While i could have solely extracted today's weather from the first index of the forecast data, to ensure better list and object management , i opted to present both separately."
   ]
  },
  {
   "cell_type": "code",
   "execution_count": 58,
   "metadata": {},
   "outputs": [],
   "source": [
    "data , city_name = main()\n",
    "today_keys = data['weather_result'].keys() \n",
    "today_dataFrame = pd.DataFrame(data['weather_result'] ,columns=today_keys , index=[0])\n",
    "forcast_dataFrame = pd.DataFrame(data['forcast_list'])"
   ]
  },
  {
   "cell_type": "markdown",
   "metadata": {},
   "source": [
    "### Subsequently, we stored our data in  CSV  formats.\n"
   ]
  },
  {
   "cell_type": "code",
   "execution_count": 59,
   "metadata": {},
   "outputs": [],
   "source": [
    "today_dataFrame.to_csv(f'{city_name}_today_weather.csv')\n",
    "forcast_dataFrame.to_csv(f'{city_name}_forcast.csv')"
   ]
  },
  {
   "cell_type": "markdown",
   "metadata": {},
   "source": [
    "### Additional considerations:\n",
    "### - Implementing error handling using try-except blocks.\n",
    "### - Expanding the dataset by including more data points or diverse cities in the Pandas DataFrame."
   ]
  }
 ],
 "metadata": {
  "kernelspec": {
   "display_name": "Python 3",
   "language": "python",
   "name": "python3"
  },
  "language_info": {
   "codemirror_mode": {
    "name": "ipython",
    "version": 3
   },
   "file_extension": ".py",
   "mimetype": "text/x-python",
   "name": "python",
   "nbconvert_exporter": "python",
   "pygments_lexer": "ipython3",
   "version": "3.12.2"
  }
 },
 "nbformat": 4,
 "nbformat_minor": 2
}
